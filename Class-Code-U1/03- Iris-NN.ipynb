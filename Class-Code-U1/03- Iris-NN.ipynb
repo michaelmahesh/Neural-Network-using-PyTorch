{
 "cells": [
  {
   "cell_type": "markdown",
   "id": "ef38b483-6e34-4777-a61f-08403dd66a48",
   "metadata": {},
   "source": [
    "\n",
    "## Dr. Michael Mahesh K Saveetha Engineering College\n",
    "- michaelmaheshk@gmail.com \n",
    "- ANN based Multi-Class Classification using Iris Dataset\n",
    "- 19AI413-Deep Learning and Its Applications\n",
    "- Unit - 1 \n",
    "- 03/05\n",
    "- EVEN SEM ( Slot: 4Z4-1 & 4U2-1)"
   ]
  },
  {
   "cell_type": "markdown",
   "id": "2e655adf-6866-4fe4-ac4e-864493f1c422",
   "metadata": {},
   "source": [
    "Step 1: Import Required Libraries"
   ]
  },
  {
   "cell_type": "code",
   "execution_count": 1,
   "id": "e7c59c44-6366-4ade-9e11-3478bbd0b036",
   "metadata": {},
   "outputs": [],
   "source": [
    "import torch  \n",
    "import torch.nn as nn  \n",
    "import torch.nn.functional as F  \n",
    "from torch.utils.data import Dataset, DataLoader  \n",
    "from sklearn.model_selection import train_test_split  \n",
    "\n",
    "import pandas as pd  \n",
    "import matplotlib.pyplot as plt  \n",
    "%matplotlib inline  \n"
   ]
  },
  {
   "cell_type": "code",
   "execution_count": 3,
   "id": "478d0b5c-e58c-4a22-98cf-7b68c21d2851",
   "metadata": {},
   "outputs": [],
   "source": [
    "# Define the Model class\n",
    "class Model(nn.Module):\n",
    "    def __init__(self, in_features=4, h1=8, h2=9, out_features=3):\n",
    "        super().__init__()\n",
    "        self.fc1 = nn.Linear(in_features, h1)    # Input layer\n",
    "        self.fc2 = nn.Linear(h1, h2)             # Hidden layer\n",
    "        self.out = nn.Linear(h2, out_features)   # Output layer\n",
    "        \n",
    "    def forward(self, x):\n",
    "        x = F.relu(self.fc1(x))  # Activation function for first hidden layer\n",
    "        x = F.relu(self.fc2(x))  # Activation function for second hidden layer\n",
    "        x = self.out(x)          # Output layer (no activation, raw scores)\n",
    "        return x\n"
   ]
  },
  {
   "cell_type": "code",
   "execution_count": 4,
   "id": "0df19c62-f12c-4b58-9504-189591335071",
   "metadata": {},
   "outputs": [],
   "source": [
    "# Instantiate the Model class using parameter defaults\n",
    "torch.manual_seed(32)  # For reproducibility\n",
    "model = Model()"
   ]
  },
  {
   "cell_type": "markdown",
   "id": "bca46148-1332-46f9-8cba-4ceb2e0a0275",
   "metadata": {},
   "source": [
    "Step 3: Load the Iris Dataset"
   ]
  },
  {
   "cell_type": "code",
   "execution_count": 6,
   "id": "fe2c692e-9afa-416e-88de-c0c0c43b80f7",
   "metadata": {},
   "outputs": [
    {
     "data": {
      "text/html": [
       "<div>\n",
       "<style scoped>\n",
       "    .dataframe tbody tr th:only-of-type {\n",
       "        vertical-align: middle;\n",
       "    }\n",
       "\n",
       "    .dataframe tbody tr th {\n",
       "        vertical-align: top;\n",
       "    }\n",
       "\n",
       "    .dataframe thead th {\n",
       "        text-align: right;\n",
       "    }\n",
       "</style>\n",
       "<table border=\"1\" class=\"dataframe\">\n",
       "  <thead>\n",
       "    <tr style=\"text-align: right;\">\n",
       "      <th></th>\n",
       "      <th>sepal length (cm)</th>\n",
       "      <th>sepal width (cm)</th>\n",
       "      <th>petal length (cm)</th>\n",
       "      <th>petal width (cm)</th>\n",
       "      <th>target</th>\n",
       "    </tr>\n",
       "  </thead>\n",
       "  <tbody>\n",
       "    <tr>\n",
       "      <th>0</th>\n",
       "      <td>5.1</td>\n",
       "      <td>3.5</td>\n",
       "      <td>1.4</td>\n",
       "      <td>0.2</td>\n",
       "      <td>0.0</td>\n",
       "    </tr>\n",
       "    <tr>\n",
       "      <th>1</th>\n",
       "      <td>4.9</td>\n",
       "      <td>3.0</td>\n",
       "      <td>1.4</td>\n",
       "      <td>0.2</td>\n",
       "      <td>0.0</td>\n",
       "    </tr>\n",
       "    <tr>\n",
       "      <th>2</th>\n",
       "      <td>4.7</td>\n",
       "      <td>3.2</td>\n",
       "      <td>1.3</td>\n",
       "      <td>0.2</td>\n",
       "      <td>0.0</td>\n",
       "    </tr>\n",
       "    <tr>\n",
       "      <th>3</th>\n",
       "      <td>4.6</td>\n",
       "      <td>3.1</td>\n",
       "      <td>1.5</td>\n",
       "      <td>0.2</td>\n",
       "      <td>0.0</td>\n",
       "    </tr>\n",
       "    <tr>\n",
       "      <th>4</th>\n",
       "      <td>5.0</td>\n",
       "      <td>3.6</td>\n",
       "      <td>1.4</td>\n",
       "      <td>0.2</td>\n",
       "      <td>0.0</td>\n",
       "    </tr>\n",
       "  </tbody>\n",
       "</table>\n",
       "</div>"
      ],
      "text/plain": [
       "   sepal length (cm)  sepal width (cm)  petal length (cm)  petal width (cm)  \\\n",
       "0                5.1               3.5                1.4               0.2   \n",
       "1                4.9               3.0                1.4               0.2   \n",
       "2                4.7               3.2                1.3               0.2   \n",
       "3                4.6               3.1                1.5               0.2   \n",
       "4                5.0               3.6                1.4               0.2   \n",
       "\n",
       "   target  \n",
       "0     0.0  \n",
       "1     0.0  \n",
       "2     0.0  \n",
       "3     0.0  \n",
       "4     0.0  "
      ]
     },
     "execution_count": 6,
     "metadata": {},
     "output_type": "execute_result"
    }
   ],
   "source": [
    "df = pd.read_csv('iris.csv')\n",
    "df.head()"
   ]
  },
  {
   "cell_type": "code",
   "execution_count": null,
   "id": "8f435296-959f-438d-8531-0c34d75bf19b",
   "metadata": {},
   "outputs": [],
   "source": []
  },
  {
   "cell_type": "markdown",
   "id": "d1506081-fdca-4ee3-b3d1-a24b4f407303",
   "metadata": {},
   "source": [
    "Step 4: Perform Train/Test Split"
   ]
  },
  {
   "cell_type": "code",
   "execution_count": 7,
   "id": "c9fa95dd-63be-4460-a85c-c23397b47c4f",
   "metadata": {},
   "outputs": [],
   "source": [
    "X = df.drop('target', axis=1).values  \n",
    "y = df['target'].values  \n",
    "X_train, X_test, y_train, y_test = train_test_split(X, y, test_size=0.2, random_state=33)  \n",
    "X_train = torch.FloatTensor(X_train)  \n",
    "X_test = torch.FloatTensor(X_test)  \n",
    "# y_train = F.one_hot(torch.LongTensor(y_train))  # Not needed with CrossEntropyLoss  \n",
    "# y_test = F.one_hot(torch.LongTensor(y_test))  \n",
    "y_train = torch.LongTensor(y_train)  \n",
    "y_test = torch.LongTensor(y_test)  \n"
   ]
  },
  {
   "cell_type": "markdown",
   "id": "33149e13-9b36-4371-938d-4d2104edf112",
   "metadata": {},
   "source": [
    "Step 5: Prepare DataLoader\n"
   ]
  },
  {
   "cell_type": "code",
   "execution_count": 8,
   "id": "6b8e260f-907b-466f-b121-926b98da77be",
   "metadata": {},
   "outputs": [],
   "source": [
    "trainloader = DataLoader(X_train, batch_size=60, shuffle=True)\n",
    "\n",
    "testloader = DataLoader(X_test, batch_size=60, shuffle=False)"
   ]
  },
  {
   "cell_type": "markdown",
   "id": "b99e176f-7458-4b15-ae47-d97806dfb95c",
   "metadata": {},
   "source": [
    "Step 6: Define Loss Function and Optimizer\n"
   ]
  },
  {
   "cell_type": "code",
   "execution_count": 9,
   "id": "0f4e75d0-b189-4504-8b6c-c96bff23c4f4",
   "metadata": {},
   "outputs": [],
   "source": [
    "# FOR REDO\n",
    "torch.manual_seed(4)\n",
    "model = Model()"
   ]
  },
  {
   "cell_type": "code",
   "execution_count": 10,
   "id": "032bf2c2-8ff6-420b-b9f7-a93123b1a2dd",
   "metadata": {},
   "outputs": [],
   "source": [
    "criterion = nn.CrossEntropyLoss()\n",
    "optimizer = torch.optim.Adam(model.parameters(), lr=0.01)"
   ]
  },
  {
   "cell_type": "markdown",
   "id": "9958f325-864e-4f4a-a36e-1477f8a51cb7",
   "metadata": {},
   "source": [
    "Step 7: Train the Model"
   ]
  },
  {
   "cell_type": "code",
   "execution_count": 11,
   "id": "04515e55-9b59-4183-a5be-b9b387f096d0",
   "metadata": {},
   "outputs": [
    {
     "name": "stdout",
     "output_type": "stream",
     "text": [
      "epoch:  1  loss: 1.09568226\n",
      "epoch: 11  loss: 0.98190629\n",
      "epoch: 21  loss: 0.75652373\n",
      "epoch: 31  loss: 0.49447373\n",
      "epoch: 41  loss: 0.34981722\n",
      "epoch: 51  loss: 0.22807978\n",
      "epoch: 61  loss: 0.13547556\n",
      "epoch: 71  loss: 0.09162242\n",
      "epoch: 81  loss: 0.07378437\n",
      "epoch: 91  loss: 0.06546317\n"
     ]
    }
   ],
   "source": [
    "epochs = 100\n",
    "losses = []\n",
    "\n",
    "for i in range(epochs):\n",
    "    i+=1\n",
    "    y_pred = model.forward(X_train)\n",
    "    loss = criterion(y_pred, y_train)\n",
    "    losses.append(loss)\n",
    "    \n",
    "    # a neat trick to save screen space:\n",
    "    if i%10 == 1:\n",
    "        print(f'epoch: {i:2}  loss: {loss.item():10.8f}')\n",
    "\n",
    "    optimizer.zero_grad()\n",
    "    loss.backward()\n",
    "    optimizer.step()"
   ]
  },
  {
   "cell_type": "markdown",
   "id": "03b15953-7bbd-4deb-82c7-5014ae38726a",
   "metadata": {},
   "source": [
    "Step 8: Plot the Loss Function"
   ]
  },
  {
   "cell_type": "code",
   "execution_count": 12,
   "id": "83f71c14-e39b-4397-8553-b0eba49b9641",
   "metadata": {},
   "outputs": [
    {
     "data": {
      "image/png": "[encoded data removed]",
      "text/plain": [
       "<Figure size 640x480 with 1 Axes>"
      ]
     },
     "metadata": {},
     "output_type": "display_data"
    }
   ],
   "source": [
    "plt.plot(range(epochs), [loss.detach().numpy() for loss in losses])  \n",
    "plt.xlabel('Epochs')  \n",
    "plt.ylabel('Loss')  \n",
    "plt.title('Training Loss Over Time')  \n",
    "plt.show() "
   ]
  },
  {
   "cell_type": "markdown",
   "id": "b7bd11bb-81f9-4a4c-ba4d-ced6a7b5a883",
   "metadata": {},
   "source": [
    "Step : 9 Validate the Model"
   ]
  },
  {
   "cell_type": "code",
   "execution_count": 13,
   "id": "5d111e65-346e-4594-8c75-245e779d022d",
   "metadata": {},
   "outputs": [
    {
     "name": "stdout",
     "output_type": "stream",
     "text": [
      "0.06247775\n"
     ]
    }
   ],
   "source": [
    "# TO EVALUATE THE ENTIRE TEST SET\n",
    "with torch.no_grad():\n",
    "    y_val = model.forward(X_test)\n",
    "    loss = criterion(y_val, y_test)\n",
    "print(f'{loss:.8f}')"
   ]
  },
  {
   "cell_type": "markdown",
   "id": "701def82-5db0-4231-927c-4448138a3e9c",
   "metadata": {},
   "source": [
    "- The test set is passed through the model without calculating gradients.\n",
    "- The loss function (criterion) computes the test loss based on predictions.\n",
    "- The loss value is printed to compare with training loss."
   ]
  },
  {
   "cell_type": "code",
   "execution_count": 14,
   "id": "109f3f78-3bcc-4b15-b279-8f918e208d89",
   "metadata": {},
   "outputs": [
    {
     "name": "stdout",
     "output_type": "stream",
     "text": [
      " 1. tensor([-0.3360,  7.3629,  1.3780])     1\n",
      " 2. tensor([0.2770, 8.1552, 0.4267])        1\n",
      " 3. tensor([ 11.9968,   6.1842, -19.1980])  0\n",
      " 4. tensor([-2.0192,  7.9662,  4.2445])     1\n",
      " 5. tensor([-6.1353,  7.9516, 11.0908])     2\n",
      " 6. tensor([-10.2640,   8.3102,  17.9992])  2\n",
      " 7. tensor([ 12.0541,   6.4316, -19.2913])  0\n",
      " 8. tensor([ 12.9496,   6.4815, -20.7530])  0\n",
      " 9. tensor([-5.7727,  8.2435, 10.5079])     2\n",
      "10. tensor([-7.8872,  8.6126, 14.0726])     2\n",
      "11. tensor([-8.7060,  8.6074, 15.4331])     2\n",
      "12. tensor([ 11.6348,   5.8164, -18.6210])  0\n",
      "13. tensor([-8.1013,  8.2331, 14.3883])     2\n",
      "14. tensor([-2.0796,  7.7751,  4.3185])     1\n",
      "15. tensor([-6.0833,  8.3916, 11.0582])     2\n",
      "16. tensor([0.1354, 7.8658, 0.6407])        1\n",
      "17. tensor([-4.0880,  7.7216,  7.6638])     2\n",
      "18. tensor([ 13.1511,   6.5907, -21.0787])  0\n",
      "19. tensor([-1.5649,  8.0220,  3.4751])     1\n",
      "20. tensor([-6.2865,  8.9727, 11.4244])     2\n",
      "21. tensor([ 12.3848,   6.2568, -19.8265])  0\n",
      "22. tensor([ 13.8199,   7.0854, -22.1532])  0\n",
      "23. tensor([-8.8475,  8.3181, 15.6471])     2\n",
      "24. tensor([ 12.1968,   6.1261, -19.5250])  0\n",
      "25. tensor([-5.8089,  7.5468, 10.5336])     2\n",
      "26. tensor([-4.4530,  7.7875,  8.2861])     2\n",
      "27. tensor([-1.4289,  7.7785,  3.2325])     1\n",
      "28. tensor([ 0.5351,  7.5358, -0.0494])     1\n",
      "29. tensor([-5.8235,  8.1573, 10.5971])     2\n",
      "30. tensor([-5.2573,  7.7475,  9.6101])     2\n",
      "\n",
      "29 out of 30 = 96.67% correct\n"
     ]
    }
   ],
   "source": [
    "correct = 0\n",
    "with torch.no_grad():\n",
    "    for i,data in enumerate(X_test):\n",
    "        y_val = model.forward(data)\n",
    "        print(f'{i+1:2}. {str(y_val):38}  {y_test[i]}')\n",
    "        if y_val.argmax().item() == y_test[i]:\n",
    "            correct += 1\n",
    "print(f'\\n{correct} out of {len(y_test)} = {100*correct/len(y_test):.2f}% correct')"
   ]
  },
  {
   "cell_type": "markdown",
   "id": "8d21b036-a0a5-4fa3-92ed-2bf90707da2d",
   "metadata": {},
   "source": [
    "# Note :\n",
    "- Iterates through each test sample and makes a prediction.\n",
    "- Prints both the predicted values and actual label for comparison.\n",
    "- Uses argmax() to extract the highest probability class and compares it with the actual label.\n",
    "- Counts correctly classified samples\n",
    "- Calculates accuracy by dividing correct predictions by total test samples.\n",
    "- Formats and prints the accuracy percentage."
   ]
  },
  {
   "cell_type": "markdown",
   "id": "132947b6-1bb0-4566-a3f5-f9c18c66a673",
   "metadata": {},
   "source": [
    "### ** Step : 10 Saving and Loading a Trained Model**\n",
    "\n",
    "#### **Two Methods to Save and Load a Model**\n",
    "\n",
    "1. **Save and Load Model State Dict (Recommended Method)**\n",
    "   - **Saves only learned parameters**, not the model architecture.\n",
    "   - Requires redefining the model class before loading.\n",
    "   - **Save:**  \n",
    "     ```python\n",
    "     torch.save(model.state_dict(), PATH)\n",
    "     ```\n",
    "   - **Load:**\n",
    "     ```python\n",
    "     model = TheModelClass(*args, **kwargs)  \n",
    "     model.load_state_dict(torch.load(PATH))  \n",
    "     model.eval()\n",
    "     ```\n",
    "\n",
    "2. **Save and Load Entire Model (Includes Class & Parameters)**\n",
    "   - **Saves the full model** as a pickle file.\n",
    "   - Must ensure the model class and dependencies are available when loading.\n",
    "   - **Save:**  \n",
    "     ```python\n",
    "     torch.save(model, PATH)\n",
    "     ```\n",
    "   - **Load:**  \n",
    "     ```python\n",
    "     model = torch.load(PATH)  \n",
    "     model.eval()\n",
    "     ```\n",
    "\n",
    "#### **Important Notes**\n",
    "- **Call `model.eval()` before inference** to set dropout and batch normalization layers to evaluation mode.\n",
    "- **Use state_dict saving for portability** (preferred for deployment).\n",
    "- **Use full model saving for ease of use** (useful for quick reloading in the same environment).\n",
    "- **More details**: [PyTorch Model Saving Guide](https://pytorch.org/tutorials/beginner/saving_loading_models.html)\n"
   ]
  },
  {
   "cell_type": "code",
   "execution_count": 17,
   "id": "89d7ff18-ef1f-4151-8189-2c475077c75d",
   "metadata": {},
   "outputs": [],
   "source": [
    "torch.save(model.state_dict(), 'IrisDatasetModel.pt')"
   ]
  },
  {
   "cell_type": "markdown",
   "id": "55a3f9a8-d86c-4296-a60e-23e807d84eae",
   "metadata": {},
   "source": [
    "- Load a New Model\n",
    "- We'll create a new model instance and load the saved state dictionary to restore the trained weights"
   ]
  },
  {
   "cell_type": "code",
   "execution_count": 18,
   "id": "37c2b332-f072-4b7c-b694-4d14ce978520",
   "metadata": {},
   "outputs": [
    {
     "data": {
      "text/plain": [
       "Model(\n",
       "  (fc1): Linear(in_features=4, out_features=8, bias=True)\n",
       "  (fc2): Linear(in_features=8, out_features=9, bias=True)\n",
       "  (out): Linear(in_features=9, out_features=3, bias=True)\n",
       ")"
      ]
     },
     "execution_count": 18,
     "metadata": {},
     "output_type": "execute_result"
    }
   ],
   "source": [
    "new_model = Model()\n",
    "new_model.load_state_dict(torch.load('IrisDatasetModel.pt'))\n",
    "new_model.eval()"
   ]
  },
  {
   "cell_type": "markdown",
   "id": "b5bbce7b-5087-47a9-8075-6f251877109c",
   "metadata": {},
   "source": [
    "- Evaluate the Loaded Model\n",
    "- After loading the trained model, we test it on the test dataset to ensure it performs as expected."
   ]
  },
  {
   "cell_type": "code",
   "execution_count": 19,
   "id": "635ceeff-2773-4b01-a85d-f62aeb41f336",
   "metadata": {},
   "outputs": [
    {
     "name": "stdout",
     "output_type": "stream",
     "text": [
      "0.06247775\n"
     ]
    }
   ],
   "source": [
    "with torch.no_grad():\n",
    "    y_val = new_model.forward(X_test)\n",
    "    loss = criterion(y_val, y_test)\n",
    "print(f'{loss:.8f}')"
   ]
  },
  {
   "cell_type": "code",
   "execution_count": null,
   "id": "bb7b7de1-53d9-44ae-9935-eeaab7be602e",
   "metadata": {},
   "outputs": [],
   "source": []
  },
  {
   "cell_type": "markdown",
   "id": "8cc67fab-dfc5-4883-a0e5-58b826b5676b",
   "metadata": {},
   "source": [
    "- Classifying Unseen Data\n",
    "- After loading the trained model, we can use it to predict the class of a new, unseen iris flower."
   ]
  },
  {
   "cell_type": "code",
   "execution_count": 21,
   "id": "fcbb5592-4771-4f19-82e2-07c2e0bbad20",
   "metadata": {},
   "outputs": [],
   "source": [
    "mystery_iris = torch.tensor([5.6,3.7,2.2,0.5])"
   ]
  },
  {
   "cell_type": "code",
   "execution_count": 24,
   "id": "1ebcd22b-30e2-40b8-a371-9c28f07cc70c",
   "metadata": {},
   "outputs": [
    {
     "data": {
      "image/png": "[encoded data removed]",
      "text/plain": [
       "<Figure size 1000x700 with 4 Axes>"
      ]
     },
     "metadata": {},
     "output_type": "display_data"
    }
   ],
   "source": [
    "fig, axes = plt.subplots(nrows=2, ncols=2, figsize=(10,7))\n",
    "fig.tight_layout()\n",
    "\n",
    "plots = [(0,1),(2,3),(0,2),(1,3)]\n",
    "colors = ['b', 'r', 'g']\n",
    "labels = ['Iris setosa','Iris virginica','Iris versicolor','Mystery iris']\n",
    "\n",
    "for i, ax in enumerate(axes.flat):\n",
    "    for j in range(3):\n",
    "        x = df.columns[plots[i][0]]\n",
    "        y = df.columns[plots[i][1]]\n",
    "        ax.scatter(df[df['target']==j][x], df[df['target']==j][y], color=colors[j])\n",
    "        ax.set(xlabel=x, ylabel=y)\n",
    "        \n",
    "    # Add a plot for our mystery iris:\n",
    "    ax.scatter(mystery_iris[plots[i][0]],mystery_iris[plots[i][1]], color='y')\n",
    "    \n",
    "fig.legend(labels=labels, loc=3, bbox_to_anchor=(1.0,0.85))\n",
    "plt.show()"
   ]
  },
  {
   "cell_type": "code",
   "execution_count": 25,
   "id": "17fb75e4-839d-4029-afeb-e0632f70f4bd",
   "metadata": {},
   "outputs": [
    {
     "name": "stdout",
     "output_type": "stream",
     "text": [
      "tensor([ 12.2112,   7.1279, -19.5248])\n",
      "\n",
      "Iris setosa\n"
     ]
    }
   ],
   "source": [
    "with torch.no_grad():\n",
    "    print(new_model(mystery_iris))\n",
    "    print()\n",
    "    print(labels[new_model(mystery_iris).argmax()])"
   ]
  },
  {
   "cell_type": "markdown",
   "id": "585df00a-eae2-4475-8376-e64953629298",
   "metadata": {},
   "source": [
    "\n",
    "## Dr. Michael Mahesh K Saveetha Engineering College\n",
    "- michaelmaheshk@gmail.com \n",
    "- ANN based Multi-Class Classification using Iris Dataset\n",
    "- 19AI413-Deep Learning and Its Applications\n",
    "- Unit - 1 \n",
    "- 03/05\n",
    "- EVEN SEM ( Slot: 4Z4-1 & 4U2-1)\n"
   ]
  },
  {
   "cell_type": "code",
   "execution_count": null,
   "id": "5c385a7d-52fa-41ae-8abf-0595add3f409",
   "metadata": {},
   "outputs": [],
   "source": []
  },
  {
   "cell_type": "code",
   "execution_count": null,
   "id": "409450d5-76de-4192-93cc-203a55c246d8",
   "metadata": {},
   "outputs": [],
   "source": []
  },
  {
   "cell_type": "code",
   "execution_count": null,
   "id": "e78ad1d1-bbc0-486f-b375-ced1173270bd",
   "metadata": {},
   "outputs": [],
   "source": []
  }
 ],
 "metadata": {
  "kernelspec": {
   "display_name": "Python 3 (ipykernel)",
   "language": "python",
   "name": "python3"
  },
  "language_info": {
   "codemirror_mode": {
    "name": "ipython",
    "version": 3
   },
   "file_extension": ".py",
   "mimetype": "text/x-python",
   "name": "python",
   "nbconvert_exporter": "python",
   "pygments_lexer": "ipython3",
   "version": "3.12.2"
  }
 },
 "nbformat": 4,
 "nbformat_minor": 5
}
