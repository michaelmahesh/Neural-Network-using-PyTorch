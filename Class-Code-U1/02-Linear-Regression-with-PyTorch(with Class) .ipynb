{
 "cells": [
  {
   "cell_type": "markdown",
   "id": "1825e50e-ba67-4e01-be7d-daa37d768fde",
   "metadata": {},
   "source": [
    "## Dr. Michael Mahesh K Saveetha Engineering College\n",
    "- michaelmaheshk@gmail.com \n",
    "- Linear Regression (with Class) \n",
    "- 19AI413-Deep Learning and Its Applications\n",
    "- Unit - 1 \n",
    "- 02/05\n",
    "- EVEN SEM ( Slot: 4Z4-1 & 4U2-1)"
   ]
  },
  {
   "cell_type": "markdown",
   "id": "5dfccf2f-8050-4409-98d3-6b09f74fdbf7",
   "metadata": {},
   "source": [
    "📌 Step 1: Import Required Libraries"
   ]
  },
  {
   "cell_type": "code",
   "execution_count": 1,
   "id": "a679357c-a2b2-4817-b33f-348c62d5a10b",
   "metadata": {},
   "outputs": [],
   "source": [
    "import torch\n",
    "import torch.nn as nn  # Neural network module\n",
    "import numpy as np\n",
    "import matplotlib.pyplot as plt  # For plotting\n",
    "%matplotlib inline  "
   ]
  },
  {
   "cell_type": "markdown",
   "id": "9b661989-7238-4424-87b7-425c525bdba1",
   "metadata": {},
   "source": [
    "📌 Step 2: Generate Random Data"
   ]
  },
  {
   "cell_type": "code",
   "execution_count": 2,
   "id": "7495be24-eacb-4080-b213-83b1564d18df",
   "metadata": {},
   "outputs": [],
   "source": [
    "X = torch.linspace(1,50,50).reshape(-1,1)\n",
    "\n",
    "#torch.manual_seed(42)  # Ensures the same random numbers every time\n",
    "#X = torch.rand(100, 1) * 100  # 100 random values (0 to 100)\n",
    "#y = X * 2 + 1 + torch.randn(100, 1) * 10  # True function: y = 2x + noise"
   ]
  },
  {
   "cell_type": "code",
   "execution_count": 3,
   "id": "d45978c3-c234-4ecf-947c-1e92b21ec392",
   "metadata": {},
   "outputs": [],
   "source": [
    "torch.manual_seed(71) # to obtain reproducible results\n",
    "e = torch.randint(-8,9,(50,1),dtype=torch.float)\n",
    "#print(e.sum())"
   ]
  },
  {
   "cell_type": "code",
   "execution_count": 4,
   "id": "4fa8e459-425c-4d93-95cc-381b9151c75b",
   "metadata": {},
   "outputs": [
    {
     "name": "stdout",
     "output_type": "stream",
     "text": [
      "torch.Size([50, 1])\n"
     ]
    }
   ],
   "source": [
    "y = 2*X + 1 + e\n",
    "print(y.shape)"
   ]
  },
  {
   "cell_type": "markdown",
   "id": "102a61a9-8059-4d41-9149-f70321c1415a",
   "metadata": {},
   "source": [
    "📌 Step 3: Visualizing the Data"
   ]
  },
  {
   "cell_type": "code",
   "execution_count": 5,
   "id": "0144fa22-c11f-4b5a-93f0-8f2a0022a645",
   "metadata": {},
   "outputs": [
    {
     "data": {
      "image/png": "[encoded data removed]",
      "text/plain": [
       "<Figure size 640x480 with 1 Axes>"
      ]
     },
     "metadata": {},
     "output_type": "display_data"
    }
   ],
   "source": [
    "plt.scatter(X.numpy(), y.numpy(),color='red')  # Scatter plot of data points\n",
    "plt.xlabel('x')\n",
    "plt.ylabel('y')\n",
    "plt.title('Generated Data for Linear Regression')\n",
    "plt.show()"
   ]
  },
  {
   "cell_type": "markdown",
   "id": "687e4376-60c0-436f-a03f-2106dddc2611",
   "metadata": {},
   "source": [
    "📌 Step 4: Define a Linear Regression Model"
   ]
  },
  {
   "cell_type": "code",
   "execution_count": 6,
   "id": "44c0f458-2fc9-4b3f-a3bf-ae3e94c40a1f",
   "metadata": {},
   "outputs": [],
   "source": [
    "# Setting a manual seed for reproducibility\n",
    "torch.manual_seed(59)\n",
    "\n",
    "# Defining the model class\n",
    "class Model(nn.Module):\n",
    "    def __init__(self, in_features, out_features):\n",
    "        super().__init__()\n",
    "        self.linear = nn.Linear(in_features, out_features)\n",
    "        \n",
    "    def forward(self, x):\n",
    "        y_pred = self.linear(x)\n",
    "        return y_pred"
   ]
  },
  {
   "cell_type": "code",
   "execution_count": 7,
   "id": "22e2bbf0-8102-4f82-8c16-13f5b1da6b91",
   "metadata": {},
   "outputs": [
    {
     "name": "stdout",
     "output_type": "stream",
     "text": [
      "Weight: 0.10597813129425049\n",
      "Bias:   0.9637961387634277\n"
     ]
    }
   ],
   "source": [
    "# Creating an instance of the model\n",
    "torch.manual_seed(59)\n",
    "model = Model(1, 1)\n",
    "print('Weight:', model.linear.weight.item())\n",
    "print('Bias:  ', model.linear.bias.item())"
   ]
  },
  {
   "cell_type": "markdown",
   "id": "e1ce3e8b-d471-4019-a8f5-ce1fca8b26e1",
   "metadata": {},
   "source": [
    "📌 Step 6: Define the Loss Function and Optimizer"
   ]
  },
  {
   "cell_type": "code",
   "execution_count": 8,
   "id": "edcff1c9-2313-4257-ac88-29d47e3142a7",
   "metadata": {},
   "outputs": [],
   "source": [
    "loss_function = nn.MSELoss()  # Mean Squared Error (MSE) loss\n",
    "\n",
    "optimizer = torch.optim.SGD(model.parameters(), lr=0.001)  # Stochastic Gradient Descent\n"
   ]
  },
  {
   "cell_type": "markdown",
   "id": "2e915f82-8fb9-4171-b157-e0d778a1ae0a",
   "metadata": {},
   "source": [
    "📌 Step 7: Training the Model"
   ]
  },
  {
   "cell_type": "code",
   "execution_count": 9,
   "id": "69ae64a8-cd00-419f-ab15-25d869a696d5",
   "metadata": {},
   "outputs": [
    {
     "name": "stdout",
     "output_type": "stream",
     "text": [
      "epoch:  1  loss: 3057.21679688  weight: 3.33490014  bias: 1.06046367\n",
      "epoch:  2  loss: 1588.53076172  weight: 1.01483262  bias: 0.99226284\n",
      "epoch:  3  loss: 830.30023193  weight: 2.68179965  bias: 1.04252183\n",
      "epoch:  4  loss: 438.85241699  weight: 1.48402119  bias: 1.00766504\n",
      "epoch:  5  loss: 236.76152039  weight: 2.34460592  bias: 1.03396463\n",
      "epoch:  6  loss: 132.42913818  weight: 1.72622526  bias: 1.01632178\n",
      "epoch:  7  loss: 78.56578064  weight: 2.17050409  bias: 1.03025162\n",
      "epoch:  8  loss: 50.75775909  weight: 1.85124576  bias: 1.02149546\n",
      "epoch:  9  loss: 36.40123367  weight: 2.08060074  bias: 1.02903891\n",
      "epoch: 10  loss: 28.98922920  weight: 1.91576838  bias: 1.02487016\n",
      "epoch: 11  loss: 25.16238213  weight: 2.03416562  bias: 1.02911627\n",
      "epoch: 12  loss: 23.18647385  weight: 1.94905841  bias: 1.02731562\n",
      "epoch: 13  loss: 22.16612816  weight: 2.01017213  bias: 1.02985907\n",
      "epoch: 14  loss: 21.63911057  weight: 1.96622372  bias: 1.02928054\n",
      "epoch: 15  loss: 21.36677170  weight: 1.99776423  bias: 1.03094459\n",
      "epoch: 16  loss: 21.22591782  weight: 1.97506487  bias: 1.03099668\n",
      "epoch: 17  loss: 21.15294456  weight: 1.99133754  bias: 1.03220642\n",
      "epoch: 18  loss: 21.11501312  weight: 1.97960854  bias: 1.03258383\n",
      "epoch: 19  loss: 21.09517670  weight: 1.98799884  bias: 1.03355861\n",
      "epoch: 20  loss: 21.08468437  weight: 1.98193336  bias: 1.03410351\n",
      "epoch: 21  loss: 21.07901382  weight: 1.98625445  bias: 1.03495669\n",
      "epoch: 22  loss: 21.07583046  weight: 1.98311269  bias: 1.03558779\n",
      "epoch: 23  loss: 21.07394028  weight: 1.98533309  bias: 1.03637791\n",
      "epoch: 24  loss: 21.07270050  weight: 1.98370099  bias: 1.03705311\n",
      "epoch: 25  loss: 21.07181931  weight: 1.98483658  bias: 1.03781021\n",
      "epoch: 26  loss: 21.07110596  weight: 1.98398376  bias: 1.03850794\n",
      "epoch: 27  loss: 21.07048416  weight: 1.98455977  bias: 1.03924775\n",
      "epoch: 28  loss: 21.06991386  weight: 1.98410904  bias: 1.03995669\n",
      "epoch: 29  loss: 21.06936455  weight: 1.98439610  bias: 1.04068720\n",
      "epoch: 30  loss: 21.06883621  weight: 1.98415291  bias: 1.04140162\n",
      "epoch: 31  loss: 21.06830788  weight: 1.98429084  bias: 1.04212701\n",
      "epoch: 32  loss: 21.06778336  weight: 1.98415494  bias: 1.04284394\n",
      "epoch: 33  loss: 21.06726265  weight: 1.98421574  bias: 1.04356635\n",
      "epoch: 34  loss: 21.06674004  weight: 1.98413551  bias: 1.04428422\n",
      "epoch: 35  loss: 21.06622314  weight: 1.98415649  bias: 1.04500473\n",
      "epoch: 36  loss: 21.06570816  weight: 1.98410451  bias: 1.04572272\n",
      "epoch: 37  loss: 21.06518555  weight: 1.98410523  bias: 1.04644191\n",
      "epoch: 38  loss: 21.06466866  weight: 1.98406816  bias: 1.04715967\n",
      "epoch: 39  loss: 21.06415367  weight: 1.98405802  bias: 1.04787791\n",
      "epoch: 40  loss: 21.06363678  weight: 1.98402870  bias: 1.04859519\n",
      "epoch: 41  loss: 21.06312561  weight: 1.98401320  bias: 1.04931259\n",
      "epoch: 42  loss: 21.06260681  weight: 1.98398757  bias: 1.05002928\n",
      "epoch: 43  loss: 21.06209564  weight: 1.98396957  bias: 1.05074584\n",
      "epoch: 44  loss: 21.06157875  weight: 1.98394585  bias: 1.05146194\n",
      "epoch: 45  loss: 21.06107140  weight: 1.98392630  bias: 1.05217779\n",
      "epoch: 46  loss: 21.06055450  weight: 1.98390377  bias: 1.05289316\n",
      "epoch: 47  loss: 21.06004143  weight: 1.98388338  bias: 1.05360830\n",
      "epoch: 48  loss: 21.05953407  weight: 1.98386145  bias: 1.05432308\n",
      "epoch: 49  loss: 21.05901527  weight: 1.98384094  bias: 1.05503750\n",
      "epoch: 50  loss: 21.05850792  weight: 1.98381913  bias: 1.05575156\n"
     ]
    }
   ],
   "source": [
    "epochs = 50  # Number of training iterations\n",
    "losses = []  # List to store loss values\n",
    "\n",
    "for epoch in range(1, epochs + 1):  # Start from 1 to 50\n",
    "    optimizer.zero_grad()  # Clear previous gradients\n",
    "    y_pred = model(X)  # Forward pass\n",
    "    loss = loss_function(y_pred, y)  # Compute loss\n",
    "    losses.append(loss.item())  # Store loss value\n",
    "    \n",
    "    loss.backward()  # Compute gradients\n",
    "    optimizer.step()  # Update weights\n",
    "\n",
    "    # Print loss, weight, and bias for EVERY epoch (1 to 50)\n",
    "    print(f'epoch: {epoch:2}  loss: {loss.item():10.8f}  '\n",
    "          f'weight: {model.linear.weight.item():10.8f}  '\n",
    "          f'bias: {model.linear.bias.item():10.8f}')\n"
   ]
  },
  {
   "cell_type": "markdown",
   "id": "558d6872-6ff9-47fc-b31d-c18ee26f4578",
   "metadata": {},
   "source": [
    "Plot the loss values"
   ]
  },
  {
   "cell_type": "code",
   "execution_count": 10,
   "id": "29b57990-81b5-464d-ae70-a41dac38face",
   "metadata": {},
   "outputs": [
    {
     "data": {
      "image/png": "[encoded data removed]",
      "text/plain": [
       "<Figure size 640x480 with 1 Axes>"
      ]
     },
     "metadata": {},
     "output_type": "display_data"
    }
   ],
   "source": [
    "plt.plot(range(epochs), losses)\n",
    "plt.ylabel('Loss')\n",
    "plt.xlabel('epoch');\n",
    "plt.show()"
   ]
  },
  {
   "cell_type": "markdown",
   "id": "9161005e-1609-4fe6-882c-381e02d6dd59",
   "metadata": {},
   "source": [
    "📌 Step 8: Extract the Learned Weight and Bias"
   ]
  },
  {
   "cell_type": "code",
   "execution_count": 11,
   "id": "41bc6992-5d28-4518-98d5-83c30bdf2a11",
   "metadata": {},
   "outputs": [],
   "source": [
    "# Automatically determine x-range\n",
    "x1 = torch.tensor([X.min().item(), X.max().item()])\n",
    "\n",
    "# Extract model parameters\n",
    "w1, b1 = model.linear.weight.item(), model.linear.bias.item()\n",
    "\n",
    "# Compute y1 (predicted values)\n",
    "y1 = x1 * w1 + b1\n"
   ]
  },
  {
   "cell_type": "code",
   "execution_count": 12,
   "id": "d16f1c0e-403f-4371-93be-49d93097b6a2",
   "metadata": {},
   "outputs": [
    {
     "name": "stdout",
     "output_type": "stream",
     "text": [
      "Final Weight: 1.98381913, Final Bias: 1.05575156\n",
      "X range: [ 1. 50.]\n",
      "Predicted Y values: [  3.0395708 100.246704 ]\n"
     ]
    }
   ],
   "source": [
    "# Print weight, bias, and x/y values\n",
    "print(f'Final Weight: {w1:.8f}, Final Bias: {b1:.8f}')\n",
    "print(f'X range: {x1.numpy()}')\n",
    "print(f'Predicted Y values: {y1.numpy()}')"
   ]
  },
  {
   "cell_type": "markdown",
   "id": "3798f67b-3cd3-4eed-80c4-62a4c84d0767",
   "metadata": {},
   "source": [
    "📌 Step 9: Plot the Best-Fit Line"
   ]
  },
  {
   "cell_type": "code",
   "execution_count": 13,
   "id": "493d04e8-d859-49f5-8733-01b309cb045a",
   "metadata": {},
   "outputs": [
    {
     "data": {
      "image/png": "[encoded data removed]",
      "text/plain": [
       "<Figure size 640x480 with 1 Axes>"
      ]
     },
     "metadata": {},
     "output_type": "display_data"
    }
   ],
   "source": [
    "# Plot original data and best-fit line\n",
    "plt.scatter(X.numpy(), y.numpy(), label=\"Original Data\")\n",
    "plt.plot(x1.numpy(), y1.numpy(), 'r', label=\"Best-Fit Line\")\n",
    "plt.xlabel('x')\n",
    "plt.ylabel('y')\n",
    "plt.title('Trained Model: Best-Fit Line')\n",
    "plt.legend()\n",
    "plt.show()"
   ]
  },
  {
   "cell_type": "code",
   "execution_count": null,
   "id": "466e2d6b-892f-4344-9303-b4cc8e4cdfb9",
   "metadata": {},
   "outputs": [],
   "source": []
  },
  {
   "cell_type": "markdown",
   "id": "29d98c28-3cb9-4785-9384-26f15282959d",
   "metadata": {},
   "source": [
    "## Dr. Michael Mahesh K Saveetha Engineering College\n",
    "- michaelmaheshk@gmail.com \n",
    "- Linear Regression (with Class) \n",
    "- 19AI413-Deep Learning and Its Applications\n",
    "- Unit - 1 \n",
    "- 02/05\n",
    "- EVEN SEM ( Slot: 4Z4-1 & 4U2-1)"
   ]
  },
  {
   "cell_type": "markdown",
   "id": "653f8ede-af8c-43f1-9523-0586c27dfb22",
   "metadata": {},
   "source": []
  },
  {
   "cell_type": "code",
   "execution_count": null,
   "id": "23acf2f8-bc71-4b3e-8217-1135d9c0ecb8",
   "metadata": {},
   "outputs": [],
   "source": []
  }
 ],
 "metadata": {
  "kernelspec": {
   "display_name": "Python 3 (ipykernel)",
   "language": "python",
   "name": "python3"
  },
  "language_info": {
   "codemirror_mode": {
    "name": "ipython",
    "version": 3
   },
   "file_extension": ".py",
   "mimetype": "text/x-python",
   "name": "python",
   "nbconvert_exporter": "python",
   "pygments_lexer": "ipython3",
   "version": "3.12.2"
  }
 },
 "nbformat": 4,
 "nbformat_minor": 5
}
